{
 "cells": [
  {
   "cell_type": "markdown",
   "id": "d8bba665",
   "metadata": {},
   "source": [
    "<img src=\"https://www.sturgischarterschool.com/wp-content/uploads/2019/06/sturgisheader_logo.png\" alt=\"sturgis\" width=\"250\" align=\"right\"/>\n",
    "\n",
    "## Computer Science 'The IA' notebook\n",
    "### Sturgis Charter Public School \n",
    "\n"
   ]
  },
  {
   "cell_type": "markdown",
   "id": "681696fb",
   "metadata": {},
   "source": [
    "Student: [your name here]"
   ]
  },
  {
   "cell_type": "markdown",
   "id": "16bf0839",
   "metadata": {},
   "source": [
    "### In order to have a complete IA, you must have the following \n",
    "\n",
    "* Criterion A: Planning\n",
    "* Criterion B: Solution Overview and ***Test Plan***\n",
    "* Criterion B: Record of Tasks\n",
    "* Criterion C: Development\n",
    "* Criterion D: Functionality and Extensibility of the Product\n",
    "* Criterion E: Evaluation\n",
    "* Your actual product (evaluated in Criterion D, which is your video)"
   ]
  },
  {
   "cell_type": "markdown",
   "id": "09df6fdd",
   "metadata": {},
   "source": [
    "# Criterion A: Planning\n",
    "\n",
    "| Document  | Method of Submission  |  Suggested Word Count |\n",
    "|---|---|---|\n",
    "| Description of Scenario  |  Extended Writing | 300  |\n",
    "|  Rationale for the proposed product | Extended Writing  |  300 |\n",
    "| Success criteria for product  | Bullet points  |  50 |\n",
    "\n",
    "***NOTE*** Your Criterion A should include evidence of consultation with your client and/or advisor!\n",
    "\n",
    "![CriterionA](a.png)\n"
   ]
  },
  {
   "cell_type": "markdown",
   "id": "78f67c28",
   "metadata": {},
   "source": [
    "# Criterion B: Solution Overview\n",
    "\n",
    "| Document  |  Method of Submission |  Suggested Word Count |\n",
    "|---|---|---|\n",
    "| Record of tasks  | [Record of Task form](Record.pdf)  | Roughly 1 page |\n",
    "| Design overview  | Narrative and Images  | 300 +  screenshots, flowcharts, tables, diagrams  |\n",
    "| Test Plan  | Table (see example)  | Roughly half a page |\n",
    "\n",
    "\n",
    "\n",
    "\n",
    "![CriterionA](b.png)"
   ]
  },
  {
   "cell_type": "markdown",
   "id": "d6da9fc5",
   "metadata": {},
   "source": [
    "# Criterion B: Record of Tasks\n",
    "\n",
    "The record of tasks, looks like the following [document](Record.pdf)."
   ]
  },
  {
   "cell_type": "markdown",
   "id": "a49f1b29",
   "metadata": {},
   "source": [
    "# Criterion C: Development\n",
    "\n",
    "|  Document |  Method of Submission | Suggested Word Count |\n",
    "|---|---|---|\n",
    "| Developing the product  | Extended writing with screenshot evidence  |  500-700 |\n",
    "\n",
    "\n",
    "![CriterionA](c.png)"
   ]
  },
  {
   "cell_type": "markdown",
   "id": "830a4a02",
   "metadata": {},
   "source": [
    "# Criterion D: Functionality and Extensibility of Product\n",
    "\n",
    "| Document  | Method of Submission  | Word Count  |\n",
    "|---|---|---|\n",
    "| The functioning product  | Video  demonstrating the product  | (2-7 minutes in length)  |\n",
    "| Extensibility of product  | Assessed through design overview and developing the product  | N/A  |\n",
    "\n",
    "\n",
    "![CriterionA](d.png)"
   ]
  },
  {
   "cell_type": "markdown",
   "id": "9775447f",
   "metadata": {},
   "source": [
    "# Criterion E: Evaluation\n",
    "\n",
    "| Document  | Method of Submission  |  Word Count |\n",
    "|---|---|---|\n",
    "|  Evaluating the product | Extended writing  | 200  |\n",
    "| Recommendations for improving the product  |  Extended writing | 200  |\n",
    "\n",
    "***NOTE*** Your reflection should include evidence of consultation with your client and/or advisor!\n",
    "\n",
    "![CriterionA](e.png)"
   ]
  },
  {
   "cell_type": "markdown",
   "id": "f3af7ebf",
   "metadata": {},
   "source": [
    "# IB Computer Science IA Rubric\n",
    "\n",
    "The rubric can be seen in the following [document](Rubric.pdf)."
   ]
  },
  {
   "cell_type": "code",
   "execution_count": null,
   "id": "3e0de436",
   "metadata": {},
   "outputs": [],
   "source": []
  }
 ],
 "metadata": {
  "kernelspec": {
   "display_name": "Python 3 (ipykernel)",
   "language": "python",
   "name": "python3"
  },
  "language_info": {
   "codemirror_mode": {
    "name": "ipython",
    "version": 3
   },
   "file_extension": ".py",
   "mimetype": "text/x-python",
   "name": "python",
   "nbconvert_exporter": "python",
   "pygments_lexer": "ipython3",
   "version": "3.9.7"
  }
 },
 "nbformat": 4,
 "nbformat_minor": 5
}
